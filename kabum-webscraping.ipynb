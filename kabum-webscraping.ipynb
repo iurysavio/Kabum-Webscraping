{
 "cells": [
  {
   "attachments": {},
   "cell_type": "markdown",
   "id": "fe4995c9",
   "metadata": {
    "ExecuteTime": {
     "end_time": "2023-05-05T18:40:39.710698Z",
     "start_time": "2023-05-05T18:40:39.692657Z"
    }
   },
   "source": [
    "# Kabum Gaming Chairs Webscraping v1.0"
   ]
  },
  {
   "attachments": {},
   "cell_type": "markdown",
   "id": "4036cf75",
   "metadata": {
    "ExecuteTime": {
     "end_time": "2023-05-05T18:42:47.444857Z",
     "start_time": "2023-05-05T18:42:47.420849Z"
    }
   },
   "source": [
    "Olá, pessoal!\n",
    "\n",
    "Estou animado para compartilhar com vocês o projeto que eu acabei de concluir - um notebook que faz webscraping do site da Kabum na sessão de cadeiras gamers utilizando Selenium, BeautifulSoup e Pandas! Eu sei, eu sei, talvez não seja exatamente o que você espera que um programador faça com seu tempo livre, mas aliado à vontade de fazer um projeto de webscraping eu tinha a necessidade de comprar uma boa cadeira para meu home office! \n"
   ]
  },
  {
   "attachments": {},
   "cell_type": "markdown",
   "id": "311ec6fa",
   "metadata": {
    "ExecuteTime": {
     "end_time": "2023-04-24T15:46:44.710779Z",
     "start_time": "2023-04-24T15:46:44.696751Z"
    }
   },
   "source": [
    "# Importing libs"
   ]
  },
  {
   "cell_type": "code",
   "execution_count": 197,
   "id": "339fc6ed",
   "metadata": {
    "ExecuteTime": {
     "end_time": "2023-05-08T13:49:01.707291Z",
     "start_time": "2023-05-08T13:49:01.641453Z"
    }
   },
   "outputs": [],
   "source": [
    "import pandas as pd\n",
    "import numpy as np \n",
    "import matplotlib.pyplot as plt \n",
    "from bs4 import BeautifulSoup\n",
    "from selenium import webdriver\n",
    "from selenium.webdriver.chrome.options import Options\n",
    "from selenium.webdriver.common.by import By\n",
    "import re \n",
    "from time import sleep\n",
    "import math\n",
    "import requests\n",
    "from datetime import datetime"
   ]
  },
  {
   "attachments": {},
   "cell_type": "markdown",
   "id": "cbabf195",
   "metadata": {
    "ExecuteTime": {
     "end_time": "2023-04-24T15:47:06.533046Z",
     "start_time": "2023-04-24T15:47:06.511043Z"
    }
   },
   "source": [
    "# Data Collection"
   ]
  },
  {
   "cell_type": "code",
   "execution_count": 198,
   "id": "46b483d0",
   "metadata": {
    "ExecuteTime": {
     "end_time": "2023-05-08T13:53:33.987595Z",
     "start_time": "2023-05-08T13:49:01.718289Z"
    }
   },
   "outputs": [],
   "source": [
    "# Configuring and starting the driver\n",
    "\n",
    "options = Options()\n",
    "options.add_argument('--headless=new')\n",
    "options.add_argument('--disable-blink-features=AutomationControlled')\n",
    "driver = webdriver.Chrome(options=options)\n",
    "url = 'https://www.kabum.com.br'\n",
    "navegador = driver.get(url)\n",
    "sleep(0.5)\n",
    "headers = {'User-Agent': \"Mozilla/5.0 (Windows NT 10.0; Win64; x64) AppleWebKit/537.36 \\\n",
    "    (KHTML, like Gecko) Chrome / 86.0.4240.198Safari / 537.36\"}\n",
    "\n",
    "# Looking for the 'search button', typing and updating the page:\n",
    "\n",
    "search_input = driver.find_element(By.TAG_NAME, 'input')\n",
    "search_input.click()\n",
    "search_input.send_keys('Cadeira Gamer')\n",
    "search_input.submit()\n",
    "\n",
    "# Collecting the html from the page:\n",
    "\n",
    "site = driver.page_source\n",
    "soup = BeautifulSoup(site, 'html.parser')\n",
    "\n",
    "\n",
    "# Calculing the number of pages to webscrap:\n",
    "\n",
    "qtd = soup.find('div', {'id': 'listingCount'}).get_text().strip()\n",
    "pos = qtd.find(' ')\n",
    "qtd = qtd[:pos]\n",
    "ultima_pag = math.ceil(int(qtd)/ 20)\n",
    "ultima_pag\n",
    "\n",
    "# Creating the dictionary\n",
    "\n",
    "dic_products = {'name': [], 'preco': [], 'url':[],'url_img':[],'descricao':[], 'scrapy_time':[]}\n",
    "\n",
    "for i in range(1, ultima_pag+1):\n",
    "    url_pag = f'https://www.kabum.com.br/espaco-gamer/cadeiras-gamer?page_number={i}&page_size=20&facet_filters=&sort=most_searched'\n",
    "    site = driver.get(url_pag)\n",
    "    soup = BeautifulSoup(driver.page_source, 'html.parser')\n",
    "    produtos = soup.findAll('div', class_= re.compile('productCard'))\n",
    "    \n",
    "    for produto in produtos:\n",
    "        name = produto.find('span', class_= re.compile('nameCard')).get_text().strip()\n",
    "        preco = produto.find('span', class_= re.compile('priceCard')).get_text().strip()\n",
    "        # Conseguindo o URL de cada produto\n",
    "        produto_link = produto.find('a').get('href')\n",
    "        url_img = produto.find('img').get('src')\n",
    "        descricao = produto.find('img').get('alt')\n",
    "        url_product = 'https://www.kabum.com.br' + produto_link\n",
    "\n",
    "        # Ingesting the webscrapped data\n",
    "        \n",
    "        dic_products['name'].append(name)\n",
    "        dic_products['preco'].append(preco)\n",
    "        dic_products['url'].append(url_product)\n",
    "        dic_products['url_img'].append(url_img)\n",
    "        dic_products['descricao'].append(descricao)\n",
    "        dic_products['scrapy_time'].append(datetime.now())\n",
    "\n",
    "df_raw = pd.DataFrame(dic_products)\n"
   ]
  },
  {
   "attachments": {},
   "cell_type": "markdown",
   "id": "4f9b021e",
   "metadata": {
    "ExecuteTime": {
     "end_time": "2023-04-26T11:01:00.484634Z",
     "start_time": "2023-04-26T11:01:00.470943Z"
    },
    "scrolled": false
   },
   "source": [
    "# Transforming data"
   ]
  },
  {
   "attachments": {},
   "cell_type": "markdown",
   "id": "f983f180",
   "metadata": {
    "ExecuteTime": {
     "end_time": "2023-05-05T18:38:50.900301Z",
     "start_time": "2023-05-05T18:38:50.878593Z"
    },
    "heading_collapsed": true
   },
   "source": [
    "## Observing data types"
   ]
  },
  {
   "cell_type": "code",
   "execution_count": 199,
   "id": "7c24c6c5",
   "metadata": {
    "ExecuteTime": {
     "end_time": "2023-05-08T13:53:34.018598Z",
     "start_time": "2023-05-08T13:53:33.990597Z"
    },
    "hidden": true
   },
   "outputs": [
    {
     "data": {
      "text/plain": [
       "name                   object\n",
       "preco                  object\n",
       "url                    object\n",
       "url_img                object\n",
       "descricao              object\n",
       "scrapy_time    datetime64[ns]\n",
       "dtype: object"
      ]
     },
     "execution_count": 199,
     "metadata": {},
     "output_type": "execute_result"
    }
   ],
   "source": [
    "df_raw.dtypes"
   ]
  },
  {
   "attachments": {},
   "cell_type": "markdown",
   "id": "535cb76e",
   "metadata": {
    "ExecuteTime": {
     "end_time": "2023-05-05T18:21:23.238735Z",
     "start_time": "2023-05-05T18:21:23.222733Z"
    },
    "heading_collapsed": true
   },
   "source": [
    "## Creating regex extraction functions:"
   ]
  },
  {
   "attachments": {},
   "cell_type": "markdown",
   "id": "40789882",
   "metadata": {
    "ExecuteTime": {
     "end_time": "2023-05-05T18:39:44.562434Z",
     "start_time": "2023-05-05T18:39:44.538424Z"
    },
    "hidden": true
   },
   "source": [
    "_These functions will be able to help me to extract patterns of strings._"
   ]
  },
  {
   "cell_type": "code",
   "execution_count": 200,
   "id": "10e9c898",
   "metadata": {
    "ExecuteTime": {
     "end_time": "2023-05-08T13:53:34.048439Z",
     "start_time": "2023-05-08T13:53:34.022599Z"
    },
    "hidden": true
   },
   "outputs": [],
   "source": [
    "# first two words in a string\n",
    "def extract_two_first_words(coluna):\n",
    "    padrao = re.compile(r'^\\w+\\s\\w+')\n",
    "    match = re.search(padrao, coluna)\n",
    "    if match:\n",
    "        return match.group(0)\n",
    "    return None\n",
    "\n",
    "# price from a real currency\n",
    "def extract_price(coluna):\n",
    "    padrao = re.compile(r'[^R\\$]+')\n",
    "    match = re.search(padrao, coluna)\n",
    "    if match:\n",
    "        return match.group(0)\n",
    "    return None\n",
    "\n",
    "# currency symbol\n",
    "def extract_currency(coluna):\n",
    "    padrao = re.compile(r'^R\\$')\n",
    "    match = re.search(padrao, coluna)\n",
    "    if match:\n",
    "        return match.group(0)\n",
    "    return None\n",
    "# product_code\n",
    "def extract_product_code(coluna):\n",
    "    padrao = re.compile(r'(\\d+\\w+)')\n",
    "    match = re.search(padrao, coluna)\n",
    "    if match:\n",
    "        return match.group(0)\n",
    "    return None"
   ]
  },
  {
   "attachments": {},
   "cell_type": "markdown",
   "id": "56ff5eff",
   "metadata": {
    "ExecuteTime": {
     "end_time": "2023-05-05T18:22:31.958687Z",
     "start_time": "2023-05-05T18:22:31.934670Z"
    },
    "heading_collapsed": true
   },
   "source": [
    "## Creating custom columns for further analysis:\n",
    "\n"
   ]
  },
  {
   "attachments": {},
   "cell_type": "markdown",
   "id": "07af4f3d",
   "metadata": {
    "ExecuteTime": {
     "end_time": "2023-05-05T18:39:18.711856Z",
     "start_time": "2023-05-05T18:39:18.671806Z"
    },
    "hidden": true
   },
   "source": [
    "- Product Type:\n",
    "    - Classify the objects in gaming chairs (_Cadeira Gamer_ in brazilian portuguese) or office chairs (_Cadeira de Escritório_ in brazilian portuguese).\n",
    "- Product Code:\n",
    "    - Extract the product code from the specific product url.\n",
    "- Price:\n",
    "    - Extracts the price of the item.\n",
    "- In stock?\n",
    "    - It's a binary column that says if the item is available in stock.\n",
    "- Currency:\n",
    "    - Extracts the currency of the item.\n",
    "- Year of webscrap\n",
    "- Month of webscrap\n",
    "- Month name\n",
    "- Day of webscrap\n"
   ]
  },
  {
   "cell_type": "code",
   "execution_count": 201,
   "id": "fa1d4d83",
   "metadata": {
    "ExecuteTime": {
     "end_time": "2023-05-08T13:53:34.111985Z",
     "start_time": "2023-05-08T13:53:34.053437Z"
    },
    "hidden": true,
    "scrolled": true
   },
   "outputs": [],
   "source": [
    "# Creating custom columns for further analysis\n",
    "\n",
    "df_raw['product_type'] = df_raw['name'].apply(extract_two_first_words)\n",
    "temp_list = ['Cadeira Office', 'Cadeira Escritório', 'Cadeira De', 'Cadeira de', 'Cadeira Ergonomic']\n",
    "df_raw['product_type'] = df_raw['product_type'].apply( lambda x: 'Cadeira de Escritório' if x in temp_list else 'Cadeira Gamer')\n",
    "\n",
    "df_raw['price'] = df_raw['preco'].apply(extract_price)\n",
    "df_raw['currency'] = df_raw['preco'].apply(extract_currency)\n",
    "df_raw['year_scrapy'] = pd.DatetimeIndex(df_raw['scrapy_time']).year\n",
    "df_raw['month_scrapy'] = pd.DatetimeIndex(df_raw['scrapy_time']).month\n",
    "df_raw['month_name'] = df_raw['month_scrapy'].apply(lambda x: 'Jan' if x == 1 else\n",
    "                                                              'Fev' if x == 2 else\n",
    "                                                              'Mar' if x == 3 else\n",
    "                                                              'Apr' if x == 4 else\n",
    "                                                              'May' if x == 5 else\n",
    "                                                              'Jun' if x == 6 else\n",
    "                                                              'Jul' if x == 7 else\n",
    "                                                              'Aug' if x == 8 else\n",
    "                                                              'Sep' if x == 9 else\n",
    "                                                              'Oct' if x == 10 else\n",
    "                                                              'Nov' if x == 11 else 'Dec')\n",
    "df_raw['day_scrapy'] = pd.DatetimeIndex(df_raw['scrapy_time']).day\n",
    "\n",
    "\n",
    "df_raw.columns\n",
    "\n",
    "df_raw = df_raw[['product_type','name','price','currency','descricao', 'year_scrapy', 'month_scrapy', 'month_name', 'day_scrapy', 'scrapy_time', 'url', 'url_img']]\n",
    "\n",
    "df_raw\n",
    "\n",
    "df_raw['price'] = df_raw['price'].str.replace('---','0')\n",
    "df_raw['price'] = df_raw['price'].str.replace('.','')\n",
    "df_raw['price'] = df_raw['price'].str.replace(',','.')\n",
    "\n",
    "df_raw['price'] = df_raw['price'].astype(float)\n"
   ]
  },
  {
   "cell_type": "code",
   "execution_count": 202,
   "id": "fcd61715",
   "metadata": {
    "ExecuteTime": {
     "end_time": "2023-05-08T13:53:34.143991Z",
     "start_time": "2023-05-08T13:53:34.115980Z"
    },
    "hidden": true
   },
   "outputs": [],
   "source": [
    "df_raw['product_code'] = df_raw['url'].apply(extract_product_code)"
   ]
  },
  {
   "cell_type": "code",
   "execution_count": 203,
   "id": "8d1e5231",
   "metadata": {
    "ExecuteTime": {
     "end_time": "2023-05-08T13:53:34.175699Z",
     "start_time": "2023-05-08T13:53:34.147996Z"
    },
    "hidden": true
   },
   "outputs": [],
   "source": [
    "df_raw['in_stock'] = df_raw['price'].apply(lambda x: 'no' if x == 0 else 'yes')\n",
    "df_raw = df_raw[['product_type','product_code','name','price','in_stock','currency','descricao', 'year_scrapy', 'month_scrapy', 'month_name', 'day_scrapy', 'scrapy_time', 'url', 'url_img']]\n",
    "df_raw = df_raw.loc[df_raw['product_type'].str.contains('Cadeira', na= False)]\n"
   ]
  },
  {
   "cell_type": "code",
   "execution_count": 204,
   "id": "f4b364e4",
   "metadata": {
    "ExecuteTime": {
     "end_time": "2023-05-08T13:53:34.222667Z",
     "start_time": "2023-05-08T13:53:34.179700Z"
    },
    "hidden": true
   },
   "outputs": [
    {
     "data": {
      "text/html": [
       "<div>\n",
       "<style scoped>\n",
       "    .dataframe tbody tr th:only-of-type {\n",
       "        vertical-align: middle;\n",
       "    }\n",
       "\n",
       "    .dataframe tbody tr th {\n",
       "        vertical-align: top;\n",
       "    }\n",
       "\n",
       "    .dataframe thead th {\n",
       "        text-align: right;\n",
       "    }\n",
       "</style>\n",
       "<table border=\"1\" class=\"dataframe\">\n",
       "  <thead>\n",
       "    <tr style=\"text-align: right;\">\n",
       "      <th></th>\n",
       "      <th>product_type</th>\n",
       "      <th>product_code</th>\n",
       "      <th>name</th>\n",
       "      <th>price</th>\n",
       "      <th>in_stock</th>\n",
       "      <th>currency</th>\n",
       "      <th>descricao</th>\n",
       "      <th>year_scrapy</th>\n",
       "      <th>month_scrapy</th>\n",
       "      <th>month_name</th>\n",
       "      <th>day_scrapy</th>\n",
       "      <th>scrapy_time</th>\n",
       "      <th>url</th>\n",
       "      <th>url_img</th>\n",
       "    </tr>\n",
       "  </thead>\n",
       "  <tbody>\n",
       "    <tr>\n",
       "      <th>0</th>\n",
       "      <td>Cadeira Gamer</td>\n",
       "      <td>313528</td>\n",
       "      <td>Cadeira Gamer Prizi PZ1005, Peso Suportado até...</td>\n",
       "      <td>379.90</td>\n",
       "      <td>yes</td>\n",
       "      <td>R$</td>\n",
       "      <td>Cadeira Gamer Prizi Amarela - PZ1005A Cadeira ...</td>\n",
       "      <td>2023</td>\n",
       "      <td>5</td>\n",
       "      <td>May</td>\n",
       "      <td>8</td>\n",
       "      <td>2023-05-08 10:49:16.687476</td>\n",
       "      <td>https://www.kabum.com.br/produto/313528/cadeir...</td>\n",
       "      <td>https://images.kabum.com.br/produtos/fotos/syn...</td>\n",
       "    </tr>\n",
       "    <tr>\n",
       "      <th>1</th>\n",
       "      <td>Cadeira Gamer</td>\n",
       "      <td>320746</td>\n",
       "      <td>Cadeira Gamer Prizi Pz1005, Capacidade de peso...</td>\n",
       "      <td>379.90</td>\n",
       "      <td>yes</td>\n",
       "      <td>R$</td>\n",
       "      <td>Cadeira Gamer Prizi Roxa - Pz1005A Cadeira Pz1...</td>\n",
       "      <td>2023</td>\n",
       "      <td>5</td>\n",
       "      <td>May</td>\n",
       "      <td>8</td>\n",
       "      <td>2023-05-08 10:49:16.688483</td>\n",
       "      <td>https://www.kabum.com.br/produto/320746/cadeir...</td>\n",
       "      <td>https://images.kabum.com.br/produtos/fotos/syn...</td>\n",
       "    </tr>\n",
       "    <tr>\n",
       "      <th>2</th>\n",
       "      <td>Cadeira Gamer</td>\n",
       "      <td>320739</td>\n",
       "      <td>Cadeira Gamer Prizi, PZ1005, Suporta Até 120kg...</td>\n",
       "      <td>379.90</td>\n",
       "      <td>yes</td>\n",
       "      <td>R$</td>\n",
       "      <td>Cadeira Gamer Prizi Vermelho - Pz1005A Cadeira...</td>\n",
       "      <td>2023</td>\n",
       "      <td>5</td>\n",
       "      <td>May</td>\n",
       "      <td>8</td>\n",
       "      <td>2023-05-08 10:49:16.688483</td>\n",
       "      <td>https://www.kabum.com.br/produto/320739/cadeir...</td>\n",
       "      <td>https://images.kabum.com.br/produtos/fotos/syn...</td>\n",
       "    </tr>\n",
       "    <tr>\n",
       "      <th>3</th>\n",
       "      <td>Cadeira Gamer</td>\n",
       "      <td>265788</td>\n",
       "      <td>Cadeira Gamer Mymax Mx5, Suportado até 150Kg, ...</td>\n",
       "      <td>710.15</td>\n",
       "      <td>yes</td>\n",
       "      <td>R$</td>\n",
       "      <td>A nova linha de Cadeira Gamer Mymax, são as ma...</td>\n",
       "      <td>2023</td>\n",
       "      <td>5</td>\n",
       "      <td>May</td>\n",
       "      <td>8</td>\n",
       "      <td>2023-05-08 10:49:16.688483</td>\n",
       "      <td>https://www.kabum.com.br/produto/265788/cadeir...</td>\n",
       "      <td>https://images.kabum.com.br/produtos/fotos/syn...</td>\n",
       "    </tr>\n",
       "    <tr>\n",
       "      <th>4</th>\n",
       "      <td>Cadeira Gamer</td>\n",
       "      <td>313526</td>\n",
       "      <td>Cadeira Gamer Prizi Runner, 180Kg, Giratória, ...</td>\n",
       "      <td>359.90</td>\n",
       "      <td>yes</td>\n",
       "      <td>R$</td>\n",
       "      <td>Cadeira Gamer Prizi Runner - Azul Desenvolvida...</td>\n",
       "      <td>2023</td>\n",
       "      <td>5</td>\n",
       "      <td>May</td>\n",
       "      <td>8</td>\n",
       "      <td>2023-05-08 10:49:16.689478</td>\n",
       "      <td>https://www.kabum.com.br/produto/313526/cadeir...</td>\n",
       "      <td>https://images.kabum.com.br/produtos/fotos/syn...</td>\n",
       "    </tr>\n",
       "    <tr>\n",
       "      <th>...</th>\n",
       "      <td>...</td>\n",
       "      <td>...</td>\n",
       "      <td>...</td>\n",
       "      <td>...</td>\n",
       "      <td>...</td>\n",
       "      <td>...</td>\n",
       "      <td>...</td>\n",
       "      <td>...</td>\n",
       "      <td>...</td>\n",
       "      <td>...</td>\n",
       "      <td>...</td>\n",
       "      <td>...</td>\n",
       "      <td>...</td>\n",
       "      <td>...</td>\n",
       "    </tr>\n",
       "    <tr>\n",
       "      <th>1926</th>\n",
       "      <td>Cadeira Gamer</td>\n",
       "      <td>374439</td>\n",
       "      <td>Cadeira Gamer Evolut Eg-905 Tanker V2 Laranja</td>\n",
       "      <td>0.00</td>\n",
       "      <td>no</td>\n",
       "      <td>R$</td>\n",
       "      <td>CADEIRA GAMER EVOLUT EG-905 TANKER V2    Confo...</td>\n",
       "      <td>2023</td>\n",
       "      <td>5</td>\n",
       "      <td>May</td>\n",
       "      <td>8</td>\n",
       "      <td>2023-05-08 10:53:33.957546</td>\n",
       "      <td>https://www.kabum.com.br/produto/374439/cadeir...</td>\n",
       "      <td>https://images.kabum.com.br/produtos/fotos/syn...</td>\n",
       "    </tr>\n",
       "    <tr>\n",
       "      <th>1927</th>\n",
       "      <td>Cadeira Gamer</td>\n",
       "      <td>374440</td>\n",
       "      <td>Cadeira Gamer Evolut Eg-905 Tanker V2 Branco</td>\n",
       "      <td>0.00</td>\n",
       "      <td>no</td>\n",
       "      <td>R$</td>\n",
       "      <td>CADEIRA GAMER EVOLUT EG-905 TANKER V2    Confo...</td>\n",
       "      <td>2023</td>\n",
       "      <td>5</td>\n",
       "      <td>May</td>\n",
       "      <td>8</td>\n",
       "      <td>2023-05-08 10:53:33.957546</td>\n",
       "      <td>https://www.kabum.com.br/produto/374440/cadeir...</td>\n",
       "      <td>https://images.kabum.com.br/produtos/fotos/syn...</td>\n",
       "    </tr>\n",
       "    <tr>\n",
       "      <th>1928</th>\n",
       "      <td>Cadeira Gamer</td>\n",
       "      <td>374441</td>\n",
       "      <td>Cadeira Gamer Evolut Eg-905 Tanker V2 Azul</td>\n",
       "      <td>0.00</td>\n",
       "      <td>no</td>\n",
       "      <td>R$</td>\n",
       "      <td>CADEIRA GAMER EVOLUT EG-905 TANKER V2    Confo...</td>\n",
       "      <td>2023</td>\n",
       "      <td>5</td>\n",
       "      <td>May</td>\n",
       "      <td>8</td>\n",
       "      <td>2023-05-08 10:53:33.957546</td>\n",
       "      <td>https://www.kabum.com.br/produto/374441/cadeir...</td>\n",
       "      <td>https://images.kabum.com.br/produtos/fotos/syn...</td>\n",
       "    </tr>\n",
       "    <tr>\n",
       "      <th>1929</th>\n",
       "      <td>Cadeira Gamer</td>\n",
       "      <td>374451</td>\n",
       "      <td>Cadeira Gamer Evolut Eg-905 Tanker V2 Verde</td>\n",
       "      <td>0.00</td>\n",
       "      <td>no</td>\n",
       "      <td>R$</td>\n",
       "      <td>CADEIRA GAMER EVOLUT EG-905 TANKER V2    Confo...</td>\n",
       "      <td>2023</td>\n",
       "      <td>5</td>\n",
       "      <td>May</td>\n",
       "      <td>8</td>\n",
       "      <td>2023-05-08 10:53:33.957546</td>\n",
       "      <td>https://www.kabum.com.br/produto/374451/cadeir...</td>\n",
       "      <td>https://images.kabum.com.br/produtos/fotos/syn...</td>\n",
       "    </tr>\n",
       "    <tr>\n",
       "      <th>1930</th>\n",
       "      <td>Cadeira Gamer</td>\n",
       "      <td>375756</td>\n",
       "      <td>Cadeira Gamer Dt3, Sports Gti Red 13125-2.</td>\n",
       "      <td>0.00</td>\n",
       "      <td>no</td>\n",
       "      <td>R$</td>\n",
       "      <td>A GTI faz parte da linha de produtos com reves...</td>\n",
       "      <td>2023</td>\n",
       "      <td>5</td>\n",
       "      <td>May</td>\n",
       "      <td>8</td>\n",
       "      <td>2023-05-08 10:53:33.957546</td>\n",
       "      <td>https://www.kabum.com.br/produto/375756/cadeir...</td>\n",
       "      <td>https://images.kabum.com.br/produtos/fotos/syn...</td>\n",
       "    </tr>\n",
       "  </tbody>\n",
       "</table>\n",
       "<p>1931 rows × 14 columns</p>\n",
       "</div>"
      ],
      "text/plain": [
       "       product_type product_code   \n",
       "0     Cadeira Gamer       313528  \\\n",
       "1     Cadeira Gamer       320746   \n",
       "2     Cadeira Gamer       320739   \n",
       "3     Cadeira Gamer       265788   \n",
       "4     Cadeira Gamer       313526   \n",
       "...             ...          ...   \n",
       "1926  Cadeira Gamer       374439   \n",
       "1927  Cadeira Gamer       374440   \n",
       "1928  Cadeira Gamer       374441   \n",
       "1929  Cadeira Gamer       374451   \n",
       "1930  Cadeira Gamer       375756   \n",
       "\n",
       "                                                   name   price in_stock   \n",
       "0     Cadeira Gamer Prizi PZ1005, Peso Suportado até...  379.90      yes  \\\n",
       "1     Cadeira Gamer Prizi Pz1005, Capacidade de peso...  379.90      yes   \n",
       "2     Cadeira Gamer Prizi, PZ1005, Suporta Até 120kg...  379.90      yes   \n",
       "3     Cadeira Gamer Mymax Mx5, Suportado até 150Kg, ...  710.15      yes   \n",
       "4     Cadeira Gamer Prizi Runner, 180Kg, Giratória, ...  359.90      yes   \n",
       "...                                                 ...     ...      ...   \n",
       "1926      Cadeira Gamer Evolut Eg-905 Tanker V2 Laranja    0.00       no   \n",
       "1927       Cadeira Gamer Evolut Eg-905 Tanker V2 Branco    0.00       no   \n",
       "1928         Cadeira Gamer Evolut Eg-905 Tanker V2 Azul    0.00       no   \n",
       "1929        Cadeira Gamer Evolut Eg-905 Tanker V2 Verde    0.00       no   \n",
       "1930         Cadeira Gamer Dt3, Sports Gti Red 13125-2.    0.00       no   \n",
       "\n",
       "     currency                                          descricao  year_scrapy   \n",
       "0          R$  Cadeira Gamer Prizi Amarela - PZ1005A Cadeira ...         2023  \\\n",
       "1          R$  Cadeira Gamer Prizi Roxa - Pz1005A Cadeira Pz1...         2023   \n",
       "2          R$  Cadeira Gamer Prizi Vermelho - Pz1005A Cadeira...         2023   \n",
       "3          R$  A nova linha de Cadeira Gamer Mymax, são as ma...         2023   \n",
       "4          R$  Cadeira Gamer Prizi Runner - Azul Desenvolvida...         2023   \n",
       "...       ...                                                ...          ...   \n",
       "1926       R$  CADEIRA GAMER EVOLUT EG-905 TANKER V2    Confo...         2023   \n",
       "1927       R$  CADEIRA GAMER EVOLUT EG-905 TANKER V2    Confo...         2023   \n",
       "1928       R$  CADEIRA GAMER EVOLUT EG-905 TANKER V2    Confo...         2023   \n",
       "1929       R$  CADEIRA GAMER EVOLUT EG-905 TANKER V2    Confo...         2023   \n",
       "1930       R$  A GTI faz parte da linha de produtos com reves...         2023   \n",
       "\n",
       "      month_scrapy month_name  day_scrapy                scrapy_time   \n",
       "0                5        May           8 2023-05-08 10:49:16.687476  \\\n",
       "1                5        May           8 2023-05-08 10:49:16.688483   \n",
       "2                5        May           8 2023-05-08 10:49:16.688483   \n",
       "3                5        May           8 2023-05-08 10:49:16.688483   \n",
       "4                5        May           8 2023-05-08 10:49:16.689478   \n",
       "...            ...        ...         ...                        ...   \n",
       "1926             5        May           8 2023-05-08 10:53:33.957546   \n",
       "1927             5        May           8 2023-05-08 10:53:33.957546   \n",
       "1928             5        May           8 2023-05-08 10:53:33.957546   \n",
       "1929             5        May           8 2023-05-08 10:53:33.957546   \n",
       "1930             5        May           8 2023-05-08 10:53:33.957546   \n",
       "\n",
       "                                                    url   \n",
       "0     https://www.kabum.com.br/produto/313528/cadeir...  \\\n",
       "1     https://www.kabum.com.br/produto/320746/cadeir...   \n",
       "2     https://www.kabum.com.br/produto/320739/cadeir...   \n",
       "3     https://www.kabum.com.br/produto/265788/cadeir...   \n",
       "4     https://www.kabum.com.br/produto/313526/cadeir...   \n",
       "...                                                 ...   \n",
       "1926  https://www.kabum.com.br/produto/374439/cadeir...   \n",
       "1927  https://www.kabum.com.br/produto/374440/cadeir...   \n",
       "1928  https://www.kabum.com.br/produto/374441/cadeir...   \n",
       "1929  https://www.kabum.com.br/produto/374451/cadeir...   \n",
       "1930  https://www.kabum.com.br/produto/375756/cadeir...   \n",
       "\n",
       "                                                url_img  \n",
       "0     https://images.kabum.com.br/produtos/fotos/syn...  \n",
       "1     https://images.kabum.com.br/produtos/fotos/syn...  \n",
       "2     https://images.kabum.com.br/produtos/fotos/syn...  \n",
       "3     https://images.kabum.com.br/produtos/fotos/syn...  \n",
       "4     https://images.kabum.com.br/produtos/fotos/syn...  \n",
       "...                                                 ...  \n",
       "1926  https://images.kabum.com.br/produtos/fotos/syn...  \n",
       "1927  https://images.kabum.com.br/produtos/fotos/syn...  \n",
       "1928  https://images.kabum.com.br/produtos/fotos/syn...  \n",
       "1929  https://images.kabum.com.br/produtos/fotos/syn...  \n",
       "1930  https://images.kabum.com.br/produtos/fotos/syn...  \n",
       "\n",
       "[1931 rows x 14 columns]"
      ]
     },
     "execution_count": 204,
     "metadata": {},
     "output_type": "execute_result"
    }
   ],
   "source": [
    "df_raw"
   ]
  },
  {
   "attachments": {},
   "cell_type": "markdown",
   "id": "55b1c79d",
   "metadata": {
    "ExecuteTime": {
     "end_time": "2023-04-28T19:44:53.386863Z",
     "start_time": "2023-04-28T19:44:53.369859Z"
    }
   },
   "source": [
    "# Data Loading"
   ]
  },
  {
   "cell_type": "code",
   "execution_count": 205,
   "id": "4ab413d8",
   "metadata": {
    "ExecuteTime": {
     "end_time": "2023-05-08T13:53:34.299896Z",
     "start_time": "2023-05-08T13:53:34.226669Z"
    }
   },
   "outputs": [],
   "source": [
    "try:\n",
    "    string = 'raw-data/cadeira-gamer-'+str(datetime.date(datetime.today()))+'.csv'\n",
    "    df_raw.to_csv(path_or_buf = string, sep=',', encoding= 'utf-8-sig', index= False)\n",
    "except:\n",
    "    pass"
   ]
  },
  {
   "cell_type": "code",
   "execution_count": null,
   "id": "ac9d73df",
   "metadata": {
    "ExecuteTime": {
     "end_time": "2023-05-03T16:46:44.416649Z",
     "start_time": "2023-05-03T16:46:44.342987Z"
    }
   },
   "outputs": [],
   "source": []
  },
  {
   "cell_type": "code",
   "execution_count": null,
   "id": "083ca6c2",
   "metadata": {
    "ExecuteTime": {
     "end_time": "2023-05-03T19:51:53.978954Z",
     "start_time": "2023-05-03T19:51:53.949955Z"
    }
   },
   "outputs": [],
   "source": [
    "\n"
   ]
  },
  {
   "cell_type": "code",
   "execution_count": null,
   "id": "68c4b76b",
   "metadata": {
    "ExecuteTime": {
     "end_time": "2023-05-03T17:06:40.368514Z",
     "start_time": "2023-05-03T17:06:40.338952Z"
    }
   },
   "outputs": [],
   "source": []
  },
  {
   "cell_type": "code",
   "execution_count": null,
   "id": "76c50991",
   "metadata": {},
   "outputs": [],
   "source": []
  }
 ],
 "metadata": {
  "kernelspec": {
   "display_name": "Python (ds-env)",
   "language": "python",
   "name": "ds-env"
  },
  "language_info": {
   "codemirror_mode": {
    "name": "ipython",
    "version": 3
   },
   "file_extension": ".py",
   "mimetype": "text/x-python",
   "name": "python",
   "nbconvert_exporter": "python",
   "pygments_lexer": "ipython3",
   "version": "3.9.16"
  },
  "varInspector": {
   "cols": {
    "lenName": 16,
    "lenType": 16,
    "lenVar": 40
   },
   "kernels_config": {
    "python": {
     "delete_cmd_postfix": "",
     "delete_cmd_prefix": "del ",
     "library": "var_list.py",
     "varRefreshCmd": "print(var_dic_list())"
    },
    "r": {
     "delete_cmd_postfix": ") ",
     "delete_cmd_prefix": "rm(",
     "library": "var_list.r",
     "varRefreshCmd": "cat(var_dic_list()) "
    }
   },
   "types_to_exclude": [
    "module",
    "function",
    "builtin_function_or_method",
    "instance",
    "_Feature"
   ],
   "window_display": false
  }
 },
 "nbformat": 4,
 "nbformat_minor": 5
}
